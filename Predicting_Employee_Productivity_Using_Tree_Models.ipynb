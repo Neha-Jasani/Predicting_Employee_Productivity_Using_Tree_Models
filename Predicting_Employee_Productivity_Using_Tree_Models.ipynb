{
 "cells": [
  {
   "cell_type": "markdown",
   "metadata": {},
   "source": [
    "# Guided Project: Predicting Employee Productivity Using Tree Models"
   ]
  },
  {
   "cell_type": "markdown",
   "metadata": {},
   "source": [
    "### Objective:\n",
    "* The primary objective of this project is to develop a predictive model that can accurately classify or predict the productivity performance of garment employees based on various features provided in the dataset.\n",
    "* date: Date in MM-DD-YYYY\n",
    "* day:Day of the Week\n",
    "* quarter:A portion of the month. A month was divided into four quarters\n",
    "* department:Associated department with the instance\n",
    "* team_no:Associated team number with the instance\n",
    "* no_of_workers:Number of workers in each team\n",
    "* no_of_style_change:Number of changes in the style of a particular product\n",
    "* targeted_productivity:Targeted productivity set by the Authority for each team for each day.\n",
    "* smv:Standard Minute Value, it is the allocated time for a task\n",
    "* wip:Work in progress. Includes the number of unfinished items for products\n",
    "* over_time:Represents the amount of overtime by each team in minutes\n",
    "* incentive:Represents the amount of financial incentive (in BDT) that enables or motivates a particular course of action.\n",
    "* idle_time:The amount of time when the production was interrupted due to several reasons\n",
    "* idle_men:The number of workers who were idle due to production interruption\n",
    "* actual_productivity:The actual % of productivity that was delivered by the workers. It ranges from 0-1."
   ]
  },
  {
   "cell_type": "markdown",
   "metadata": {},
   "source": [
    "## 1. Data Exploration"
   ]
  },
  {
   "cell_type": "code",
   "execution_count": 1,
   "metadata": {},
   "outputs": [],
   "source": [
    "# Import the necessary libraries\n",
    "import pandas as pd\n",
    "import numpy as np\n",
    "import matplotlib.pyplot as plt\n",
    "import seaborn as sns\n",
    "import warnings\n",
    "warnings.filterwarnings('ignore')\n",
    "\n",
    "from sklearn.preprocessing import OneHotEncoder, StandardScaler\n",
    "from sklearn.compose import make_column_transformer\n",
    "from sklearn.compose import ColumnTransformer\n",
    "from sklearn.tree import DecisionTreeClassifier, plot_tree\n",
    "from sklearn.model_selection import train_test_split\n",
    "from sklearn.metrics import accuracy_score, classification_report\n",
    "from sklearn.ensemble import RandomForestClassifier\n",
    "from sklearn.model_selection import GridSearchCV"
   ]
  },
  {
   "cell_type": "code",
   "execution_count": 2,
   "metadata": {},
   "outputs": [],
   "source": [
    "df = pd.read_csv('garments_worker_productivity.csv')"
   ]
  },
  {
   "cell_type": "code",
   "execution_count": 3,
   "metadata": {},
   "outputs": [
    {
     "data": {
      "text/html": [
       "<div>\n",
       "<style scoped>\n",
       "    .dataframe tbody tr th:only-of-type {\n",
       "        vertical-align: middle;\n",
       "    }\n",
       "\n",
       "    .dataframe tbody tr th {\n",
       "        vertical-align: top;\n",
       "    }\n",
       "\n",
       "    .dataframe thead th {\n",
       "        text-align: right;\n",
       "    }\n",
       "</style>\n",
       "<table border=\"1\" class=\"dataframe\">\n",
       "  <thead>\n",
       "    <tr style=\"text-align: right;\">\n",
       "      <th></th>\n",
       "      <th>date</th>\n",
       "      <th>quarter</th>\n",
       "      <th>department</th>\n",
       "      <th>day</th>\n",
       "      <th>team</th>\n",
       "      <th>targeted_productivity</th>\n",
       "      <th>smv</th>\n",
       "      <th>wip</th>\n",
       "      <th>over_time</th>\n",
       "      <th>incentive</th>\n",
       "      <th>idle_time</th>\n",
       "      <th>idle_men</th>\n",
       "      <th>no_of_style_change</th>\n",
       "      <th>no_of_workers</th>\n",
       "      <th>actual_productivity</th>\n",
       "    </tr>\n",
       "  </thead>\n",
       "  <tbody>\n",
       "    <tr>\n",
       "      <th>0</th>\n",
       "      <td>1/1/2015</td>\n",
       "      <td>Quarter1</td>\n",
       "      <td>sweing</td>\n",
       "      <td>Thursday</td>\n",
       "      <td>8</td>\n",
       "      <td>0.80</td>\n",
       "      <td>26.16</td>\n",
       "      <td>1108.0</td>\n",
       "      <td>7080</td>\n",
       "      <td>98</td>\n",
       "      <td>0.0</td>\n",
       "      <td>0</td>\n",
       "      <td>0</td>\n",
       "      <td>59.0</td>\n",
       "      <td>0.940725</td>\n",
       "    </tr>\n",
       "    <tr>\n",
       "      <th>1</th>\n",
       "      <td>1/1/2015</td>\n",
       "      <td>Quarter1</td>\n",
       "      <td>finishing</td>\n",
       "      <td>Thursday</td>\n",
       "      <td>1</td>\n",
       "      <td>0.75</td>\n",
       "      <td>3.94</td>\n",
       "      <td>NaN</td>\n",
       "      <td>960</td>\n",
       "      <td>0</td>\n",
       "      <td>0.0</td>\n",
       "      <td>0</td>\n",
       "      <td>0</td>\n",
       "      <td>8.0</td>\n",
       "      <td>0.886500</td>\n",
       "    </tr>\n",
       "    <tr>\n",
       "      <th>2</th>\n",
       "      <td>1/1/2015</td>\n",
       "      <td>Quarter1</td>\n",
       "      <td>sweing</td>\n",
       "      <td>Thursday</td>\n",
       "      <td>11</td>\n",
       "      <td>0.80</td>\n",
       "      <td>11.41</td>\n",
       "      <td>968.0</td>\n",
       "      <td>3660</td>\n",
       "      <td>50</td>\n",
       "      <td>0.0</td>\n",
       "      <td>0</td>\n",
       "      <td>0</td>\n",
       "      <td>30.5</td>\n",
       "      <td>0.800570</td>\n",
       "    </tr>\n",
       "    <tr>\n",
       "      <th>3</th>\n",
       "      <td>1/1/2015</td>\n",
       "      <td>Quarter1</td>\n",
       "      <td>sweing</td>\n",
       "      <td>Thursday</td>\n",
       "      <td>12</td>\n",
       "      <td>0.80</td>\n",
       "      <td>11.41</td>\n",
       "      <td>968.0</td>\n",
       "      <td>3660</td>\n",
       "      <td>50</td>\n",
       "      <td>0.0</td>\n",
       "      <td>0</td>\n",
       "      <td>0</td>\n",
       "      <td>30.5</td>\n",
       "      <td>0.800570</td>\n",
       "    </tr>\n",
       "    <tr>\n",
       "      <th>4</th>\n",
       "      <td>1/1/2015</td>\n",
       "      <td>Quarter1</td>\n",
       "      <td>sweing</td>\n",
       "      <td>Thursday</td>\n",
       "      <td>6</td>\n",
       "      <td>0.80</td>\n",
       "      <td>25.90</td>\n",
       "      <td>1170.0</td>\n",
       "      <td>1920</td>\n",
       "      <td>50</td>\n",
       "      <td>0.0</td>\n",
       "      <td>0</td>\n",
       "      <td>0</td>\n",
       "      <td>56.0</td>\n",
       "      <td>0.800382</td>\n",
       "    </tr>\n",
       "  </tbody>\n",
       "</table>\n",
       "</div>"
      ],
      "text/plain": [
       "       date   quarter  department       day  team  targeted_productivity  \\\n",
       "0  1/1/2015  Quarter1      sweing  Thursday     8                   0.80   \n",
       "1  1/1/2015  Quarter1  finishing   Thursday     1                   0.75   \n",
       "2  1/1/2015  Quarter1      sweing  Thursday    11                   0.80   \n",
       "3  1/1/2015  Quarter1      sweing  Thursday    12                   0.80   \n",
       "4  1/1/2015  Quarter1      sweing  Thursday     6                   0.80   \n",
       "\n",
       "     smv     wip  over_time  incentive  idle_time  idle_men  \\\n",
       "0  26.16  1108.0       7080         98        0.0         0   \n",
       "1   3.94     NaN        960          0        0.0         0   \n",
       "2  11.41   968.0       3660         50        0.0         0   \n",
       "3  11.41   968.0       3660         50        0.0         0   \n",
       "4  25.90  1170.0       1920         50        0.0         0   \n",
       "\n",
       "   no_of_style_change  no_of_workers  actual_productivity  \n",
       "0                   0           59.0             0.940725  \n",
       "1                   0            8.0             0.886500  \n",
       "2                   0           30.5             0.800570  \n",
       "3                   0           30.5             0.800570  \n",
       "4                   0           56.0             0.800382  "
      ]
     },
     "execution_count": 3,
     "metadata": {},
     "output_type": "execute_result"
    }
   ],
   "source": [
    "df.head()"
   ]
  },
  {
   "cell_type": "code",
   "execution_count": 4,
   "metadata": {},
   "outputs": [
    {
     "data": {
      "text/plain": [
       "(1197, 15)"
      ]
     },
     "execution_count": 4,
     "metadata": {},
     "output_type": "execute_result"
    }
   ],
   "source": [
    "# Get the shape of the dataset\n",
    "df.shape"
   ]
  },
  {
   "cell_type": "code",
   "execution_count": 5,
   "metadata": {},
   "outputs": [
    {
     "name": "stdout",
     "output_type": "stream",
     "text": [
      "<class 'pandas.core.frame.DataFrame'>\n",
      "RangeIndex: 1197 entries, 0 to 1196\n",
      "Data columns (total 15 columns):\n",
      " #   Column                 Non-Null Count  Dtype  \n",
      "---  ------                 --------------  -----  \n",
      " 0   date                   1197 non-null   object \n",
      " 1   quarter                1197 non-null   object \n",
      " 2   department             1197 non-null   object \n",
      " 3   day                    1197 non-null   object \n",
      " 4   team                   1197 non-null   int64  \n",
      " 5   targeted_productivity  1197 non-null   float64\n",
      " 6   smv                    1197 non-null   float64\n",
      " 7   wip                    691 non-null    float64\n",
      " 8   over_time              1197 non-null   int64  \n",
      " 9   incentive              1197 non-null   int64  \n",
      " 10  idle_time              1197 non-null   float64\n",
      " 11  idle_men               1197 non-null   int64  \n",
      " 12  no_of_style_change     1197 non-null   int64  \n",
      " 13  no_of_workers          1197 non-null   float64\n",
      " 14  actual_productivity    1197 non-null   float64\n",
      "dtypes: float64(6), int64(5), object(4)\n",
      "memory usage: 140.4+ KB\n"
     ]
    }
   ],
   "source": [
    "# Inspect the dataset using info() method\n",
    "df.info()"
   ]
  },
  {
   "cell_type": "code",
   "execution_count": 6,
   "metadata": {},
   "outputs": [
    {
     "data": {
      "text/html": [
       "<div>\n",
       "<style scoped>\n",
       "    .dataframe tbody tr th:only-of-type {\n",
       "        vertical-align: middle;\n",
       "    }\n",
       "\n",
       "    .dataframe tbody tr th {\n",
       "        vertical-align: top;\n",
       "    }\n",
       "\n",
       "    .dataframe thead th {\n",
       "        text-align: right;\n",
       "    }\n",
       "</style>\n",
       "<table border=\"1\" class=\"dataframe\">\n",
       "  <thead>\n",
       "    <tr style=\"text-align: right;\">\n",
       "      <th></th>\n",
       "      <th>team</th>\n",
       "      <th>targeted_productivity</th>\n",
       "      <th>smv</th>\n",
       "      <th>wip</th>\n",
       "      <th>over_time</th>\n",
       "      <th>incentive</th>\n",
       "      <th>idle_time</th>\n",
       "      <th>idle_men</th>\n",
       "      <th>no_of_style_change</th>\n",
       "      <th>no_of_workers</th>\n",
       "      <th>actual_productivity</th>\n",
       "    </tr>\n",
       "  </thead>\n",
       "  <tbody>\n",
       "    <tr>\n",
       "      <th>count</th>\n",
       "      <td>1197.000000</td>\n",
       "      <td>1197.000000</td>\n",
       "      <td>1197.000000</td>\n",
       "      <td>691.000000</td>\n",
       "      <td>1197.000000</td>\n",
       "      <td>1197.000000</td>\n",
       "      <td>1197.000000</td>\n",
       "      <td>1197.000000</td>\n",
       "      <td>1197.000000</td>\n",
       "      <td>1197.000000</td>\n",
       "      <td>1197.000000</td>\n",
       "    </tr>\n",
       "    <tr>\n",
       "      <th>mean</th>\n",
       "      <td>6.426901</td>\n",
       "      <td>0.729632</td>\n",
       "      <td>15.062172</td>\n",
       "      <td>1190.465991</td>\n",
       "      <td>4567.460317</td>\n",
       "      <td>38.210526</td>\n",
       "      <td>0.730159</td>\n",
       "      <td>0.369256</td>\n",
       "      <td>0.150376</td>\n",
       "      <td>34.609858</td>\n",
       "      <td>0.735091</td>\n",
       "    </tr>\n",
       "    <tr>\n",
       "      <th>std</th>\n",
       "      <td>3.463963</td>\n",
       "      <td>0.097891</td>\n",
       "      <td>10.943219</td>\n",
       "      <td>1837.455001</td>\n",
       "      <td>3348.823563</td>\n",
       "      <td>160.182643</td>\n",
       "      <td>12.709757</td>\n",
       "      <td>3.268987</td>\n",
       "      <td>0.427848</td>\n",
       "      <td>22.197687</td>\n",
       "      <td>0.174488</td>\n",
       "    </tr>\n",
       "    <tr>\n",
       "      <th>min</th>\n",
       "      <td>1.000000</td>\n",
       "      <td>0.070000</td>\n",
       "      <td>2.900000</td>\n",
       "      <td>7.000000</td>\n",
       "      <td>0.000000</td>\n",
       "      <td>0.000000</td>\n",
       "      <td>0.000000</td>\n",
       "      <td>0.000000</td>\n",
       "      <td>0.000000</td>\n",
       "      <td>2.000000</td>\n",
       "      <td>0.233705</td>\n",
       "    </tr>\n",
       "    <tr>\n",
       "      <th>25%</th>\n",
       "      <td>3.000000</td>\n",
       "      <td>0.700000</td>\n",
       "      <td>3.940000</td>\n",
       "      <td>774.500000</td>\n",
       "      <td>1440.000000</td>\n",
       "      <td>0.000000</td>\n",
       "      <td>0.000000</td>\n",
       "      <td>0.000000</td>\n",
       "      <td>0.000000</td>\n",
       "      <td>9.000000</td>\n",
       "      <td>0.650307</td>\n",
       "    </tr>\n",
       "    <tr>\n",
       "      <th>50%</th>\n",
       "      <td>6.000000</td>\n",
       "      <td>0.750000</td>\n",
       "      <td>15.260000</td>\n",
       "      <td>1039.000000</td>\n",
       "      <td>3960.000000</td>\n",
       "      <td>0.000000</td>\n",
       "      <td>0.000000</td>\n",
       "      <td>0.000000</td>\n",
       "      <td>0.000000</td>\n",
       "      <td>34.000000</td>\n",
       "      <td>0.773333</td>\n",
       "    </tr>\n",
       "    <tr>\n",
       "      <th>75%</th>\n",
       "      <td>9.000000</td>\n",
       "      <td>0.800000</td>\n",
       "      <td>24.260000</td>\n",
       "      <td>1252.500000</td>\n",
       "      <td>6960.000000</td>\n",
       "      <td>50.000000</td>\n",
       "      <td>0.000000</td>\n",
       "      <td>0.000000</td>\n",
       "      <td>0.000000</td>\n",
       "      <td>57.000000</td>\n",
       "      <td>0.850253</td>\n",
       "    </tr>\n",
       "    <tr>\n",
       "      <th>max</th>\n",
       "      <td>12.000000</td>\n",
       "      <td>0.800000</td>\n",
       "      <td>54.560000</td>\n",
       "      <td>23122.000000</td>\n",
       "      <td>25920.000000</td>\n",
       "      <td>3600.000000</td>\n",
       "      <td>300.000000</td>\n",
       "      <td>45.000000</td>\n",
       "      <td>2.000000</td>\n",
       "      <td>89.000000</td>\n",
       "      <td>1.120437</td>\n",
       "    </tr>\n",
       "  </tbody>\n",
       "</table>\n",
       "</div>"
      ],
      "text/plain": [
       "              team  targeted_productivity          smv           wip  \\\n",
       "count  1197.000000            1197.000000  1197.000000    691.000000   \n",
       "mean      6.426901               0.729632    15.062172   1190.465991   \n",
       "std       3.463963               0.097891    10.943219   1837.455001   \n",
       "min       1.000000               0.070000     2.900000      7.000000   \n",
       "25%       3.000000               0.700000     3.940000    774.500000   \n",
       "50%       6.000000               0.750000    15.260000   1039.000000   \n",
       "75%       9.000000               0.800000    24.260000   1252.500000   \n",
       "max      12.000000               0.800000    54.560000  23122.000000   \n",
       "\n",
       "          over_time    incentive    idle_time     idle_men  \\\n",
       "count   1197.000000  1197.000000  1197.000000  1197.000000   \n",
       "mean    4567.460317    38.210526     0.730159     0.369256   \n",
       "std     3348.823563   160.182643    12.709757     3.268987   \n",
       "min        0.000000     0.000000     0.000000     0.000000   \n",
       "25%     1440.000000     0.000000     0.000000     0.000000   \n",
       "50%     3960.000000     0.000000     0.000000     0.000000   \n",
       "75%     6960.000000    50.000000     0.000000     0.000000   \n",
       "max    25920.000000  3600.000000   300.000000    45.000000   \n",
       "\n",
       "       no_of_style_change  no_of_workers  actual_productivity  \n",
       "count         1197.000000    1197.000000          1197.000000  \n",
       "mean             0.150376      34.609858             0.735091  \n",
       "std              0.427848      22.197687             0.174488  \n",
       "min              0.000000       2.000000             0.233705  \n",
       "25%              0.000000       9.000000             0.650307  \n",
       "50%              0.000000      34.000000             0.773333  \n",
       "75%              0.000000      57.000000             0.850253  \n",
       "max              2.000000      89.000000             1.120437  "
      ]
     },
     "execution_count": 6,
     "metadata": {},
     "output_type": "execute_result"
    }
   ],
   "source": [
    "# Describe the dataset using describe() method\n",
    "df.describe()"
   ]
  },
  {
   "cell_type": "code",
   "execution_count": 7,
   "metadata": {},
   "outputs": [
    {
     "name": "stdout",
     "output_type": "stream",
     "text": [
      "Column Data Types:\n",
      " date                      object\n",
      "quarter                   object\n",
      "department                object\n",
      "day                       object\n",
      "team                       int64\n",
      "targeted_productivity    float64\n",
      "smv                      float64\n",
      "wip                      float64\n",
      "over_time                  int64\n",
      "incentive                  int64\n",
      "idle_time                float64\n",
      "idle_men                   int64\n",
      "no_of_style_change         int64\n",
      "no_of_workers            float64\n",
      "actual_productivity      float64\n",
      "dtype: object\n"
     ]
    }
   ],
   "source": [
    "# Explore the columns\n",
    "print('Column Data Types:\\n', df.dtypes)"
   ]
  },
  {
   "cell_type": "code",
   "execution_count": 8,
   "metadata": {},
   "outputs": [
    {
     "data": {
      "text/plain": [
       "date                       0\n",
       "quarter                    0\n",
       "department                 0\n",
       "day                        0\n",
       "team                       0\n",
       "targeted_productivity      0\n",
       "smv                        0\n",
       "wip                      506\n",
       "over_time                  0\n",
       "incentive                  0\n",
       "idle_time                  0\n",
       "idle_men                   0\n",
       "no_of_style_change         0\n",
       "no_of_workers              0\n",
       "actual_productivity        0\n",
       "dtype: int64"
      ]
     },
     "execution_count": 8,
     "metadata": {},
     "output_type": "execute_result"
    }
   ],
   "source": [
    "# Check the missing value\n",
    "df.isnull().sum()"
   ]
  },
  {
   "cell_type": "markdown",
   "metadata": {},
   "source": [
    "##### Observation:\n",
    "* There are 1197 rows and 15 columns in the dataset.\n",
    "* The 'wip' column is the only one containing null values in the dataset.\n",
    "* The 'targeted_productivity' column ranges from 0.07 to 0.80, witha mean of approximately 0.73."
   ]
  },
  {
   "cell_type": "code",
   "execution_count": 9,
   "metadata": {},
   "outputs": [
    {
     "name": "stdout",
     "output_type": "stream",
     "text": [
      "\n",
      "Comparison of Relevant Columns: \n",
      "       targeted_productivity  actual_productivity\n",
      "count            1197.000000          1197.000000\n",
      "mean                0.729632             0.735091\n",
      "std                 0.097891             0.174488\n",
      "min                 0.070000             0.233705\n",
      "25%                 0.700000             0.650307\n",
      "50%                 0.750000             0.773333\n",
      "75%                 0.800000             0.850253\n",
      "max                 0.800000             1.120437\n"
     ]
    }
   ],
   "source": [
    "# Compare relevant columns\n",
    "relavant_columns = ['targeted_productivity', 'actual_productivity']\n",
    "print('\\nComparison of Relevant Columns: ')\n",
    "print(df[relavant_columns].describe())"
   ]
  },
  {
   "cell_type": "markdown",
   "metadata": {},
   "source": [
    "##### Observations:\n",
    "* The mean of 'actual_productivity'(0.735) is slightly higher than the mean of 'targeted_productivity'(0.730)."
   ]
  },
  {
   "cell_type": "code",
   "execution_count": 10,
   "metadata": {},
   "outputs": [
    {
     "name": "stdout",
     "output_type": "stream",
     "text": [
      "\n",
      "Comparison of Relevant Columns: \n",
      "               smv     over_time\n",
      "count  1197.000000   1197.000000\n",
      "mean     15.062172   4567.460317\n",
      "std      10.943219   3348.823563\n",
      "min       2.900000      0.000000\n",
      "25%       3.940000   1440.000000\n",
      "50%      15.260000   3960.000000\n",
      "75%      24.260000   6960.000000\n",
      "max      54.560000  25920.000000\n"
     ]
    }
   ],
   "source": [
    "print('\\nComparison of Relevant Columns: ')\n",
    "print(df[['smv', 'over_time']].describe())"
   ]
  },
  {
   "cell_type": "markdown",
   "metadata": {},
   "source": [
    "##### Observations:\n",
    "* The mean 'smv' is approximately  15.06, indicating the average allocated time for a task.\n",
    "* The 'smv' ranges from 2.9 to 54.56, with a standard deviation of approximately 10.94.\n",
    "* The mean 'over_time' is 4567.46, indicating the average amount of overtime by each team."
   ]
  },
  {
   "cell_type": "markdown",
   "metadata": {},
   "source": [
    "## 2. Data Cleaning"
   ]
  },
  {
   "cell_type": "code",
   "execution_count": 11,
   "metadata": {},
   "outputs": [
    {
     "name": "stdout",
     "output_type": "stream",
     "text": [
      "Value Counts for Department Column:\n",
      "(sweing, 6)         691\n",
      "(finishing , 10)    257\n",
      "(finishing, 9)      249\n",
      "Name: department, dtype: int64\n"
     ]
    }
   ],
   "source": [
    "# Examine the value counts for the department column\n",
    "department_count = df['department'].apply(lambda x: (x, len(x)))\n",
    "print('Value Counts for Department Column:')\n",
    "print(department_count.value_counts())"
   ]
  },
  {
   "cell_type": "markdown",
   "metadata": {},
   "source": [
    "##### Observations:\n",
    "* The 'department' column contains variations in department names due to inconsistent spacing, particularly in the 'finishing' department.\n",
    "* Some entries have a space after the department name, while ohters do not."
   ]
  },
  {
   "cell_type": "code",
   "execution_count": 12,
   "metadata": {},
   "outputs": [],
   "source": [
    "# Fix the observations by removing trailing whitespaces\n",
    "df['department'] = df['department'].str.strip()"
   ]
  },
  {
   "cell_type": "code",
   "execution_count": 13,
   "metadata": {},
   "outputs": [
    {
     "name": "stdout",
     "output_type": "stream",
     "text": [
      "sweing       691\n",
      "finishing    506\n",
      "Name: department, dtype: int64\n"
     ]
    }
   ],
   "source": [
    "print(df['department'].value_counts())"
   ]
  },
  {
   "cell_type": "code",
   "execution_count": 14,
   "metadata": {},
   "outputs": [
    {
     "data": {
      "text/plain": [
       "date                       0\n",
       "quarter                    0\n",
       "department                 0\n",
       "day                        0\n",
       "team                       0\n",
       "targeted_productivity      0\n",
       "smv                        0\n",
       "wip                      506\n",
       "over_time                  0\n",
       "incentive                  0\n",
       "idle_time                  0\n",
       "idle_men                   0\n",
       "no_of_style_change         0\n",
       "no_of_workers              0\n",
       "actual_productivity        0\n",
       "dtype: int64"
      ]
     },
     "execution_count": 14,
     "metadata": {},
     "output_type": "execute_result"
    }
   ],
   "source": [
    "df.isnull().sum()"
   ]
  },
  {
   "cell_type": "code",
   "execution_count": 15,
   "metadata": {},
   "outputs": [
    {
     "data": {
      "text/plain": [
       "0.0      1179\n",
       "3.5         3\n",
       "2.0         2\n",
       "5.0         2\n",
       "8.0         2\n",
       "4.5         2\n",
       "4.0         2\n",
       "90.0        1\n",
       "150.0       1\n",
       "270.0       1\n",
       "300.0       1\n",
       "6.5         1\n",
       "Name: idle_time, dtype: int64"
      ]
     },
     "execution_count": 15,
     "metadata": {},
     "output_type": "execute_result"
    }
   ],
   "source": [
    "df['idle_time'].value_counts()"
   ]
  },
  {
   "cell_type": "code",
   "execution_count": 16,
   "metadata": {},
   "outputs": [
    {
     "data": {
      "text/plain": [
       "0     1179\n",
       "10       3\n",
       "15       3\n",
       "30       3\n",
       "20       3\n",
       "35       2\n",
       "45       1\n",
       "37       1\n",
       "25       1\n",
       "40       1\n",
       "Name: idle_men, dtype: int64"
      ]
     },
     "execution_count": 16,
     "metadata": {},
     "output_type": "execute_result"
    }
   ],
   "source": [
    "df['idle_men'].value_counts()"
   ]
  },
  {
   "cell_type": "code",
   "execution_count": 17,
   "metadata": {},
   "outputs": [
    {
     "data": {
      "text/plain": [
       "0    1050\n",
       "1     114\n",
       "2      33\n",
       "Name: no_of_style_change, dtype: int64"
      ]
     },
     "execution_count": 17,
     "metadata": {},
     "output_type": "execute_result"
    }
   ],
   "source": [
    "df['no_of_style_change'].value_counts()"
   ]
  },
  {
   "cell_type": "markdown",
   "metadata": {},
   "source": [
    "##### Observation:\n",
    "* We can remove the 'date' column as it may not directly conribute to predicting productivity.\n",
    "* In 'wip' column more then 50% of data is missing so we can also remove the column.\n",
    "* As we see above results the 'idle_time', 'idle_men', and 'no_of_style_change' columns have upto 90% of '0' values so we can also drop those columns."
   ]
  },
  {
   "cell_type": "code",
   "execution_count": 18,
   "metadata": {},
   "outputs": [],
   "source": [
    "df.drop(columns=['date', 'wip', 'idle_time', 'idle_men', 'no_of_style_change'],inplace=True)"
   ]
  },
  {
   "cell_type": "code",
   "execution_count": 19,
   "metadata": {},
   "outputs": [
    {
     "data": {
      "text/html": [
       "<div>\n",
       "<style scoped>\n",
       "    .dataframe tbody tr th:only-of-type {\n",
       "        vertical-align: middle;\n",
       "    }\n",
       "\n",
       "    .dataframe tbody tr th {\n",
       "        vertical-align: top;\n",
       "    }\n",
       "\n",
       "    .dataframe thead th {\n",
       "        text-align: right;\n",
       "    }\n",
       "</style>\n",
       "<table border=\"1\" class=\"dataframe\">\n",
       "  <thead>\n",
       "    <tr style=\"text-align: right;\">\n",
       "      <th></th>\n",
       "      <th>quarter</th>\n",
       "      <th>department</th>\n",
       "      <th>day</th>\n",
       "      <th>team</th>\n",
       "      <th>targeted_productivity</th>\n",
       "      <th>smv</th>\n",
       "      <th>over_time</th>\n",
       "      <th>incentive</th>\n",
       "      <th>no_of_workers</th>\n",
       "      <th>actual_productivity</th>\n",
       "    </tr>\n",
       "  </thead>\n",
       "  <tbody>\n",
       "    <tr>\n",
       "      <th>0</th>\n",
       "      <td>Quarter1</td>\n",
       "      <td>sweing</td>\n",
       "      <td>Thursday</td>\n",
       "      <td>8</td>\n",
       "      <td>0.80</td>\n",
       "      <td>26.16</td>\n",
       "      <td>7080</td>\n",
       "      <td>98</td>\n",
       "      <td>59.0</td>\n",
       "      <td>0.940725</td>\n",
       "    </tr>\n",
       "    <tr>\n",
       "      <th>1</th>\n",
       "      <td>Quarter1</td>\n",
       "      <td>finishing</td>\n",
       "      <td>Thursday</td>\n",
       "      <td>1</td>\n",
       "      <td>0.75</td>\n",
       "      <td>3.94</td>\n",
       "      <td>960</td>\n",
       "      <td>0</td>\n",
       "      <td>8.0</td>\n",
       "      <td>0.886500</td>\n",
       "    </tr>\n",
       "    <tr>\n",
       "      <th>2</th>\n",
       "      <td>Quarter1</td>\n",
       "      <td>sweing</td>\n",
       "      <td>Thursday</td>\n",
       "      <td>11</td>\n",
       "      <td>0.80</td>\n",
       "      <td>11.41</td>\n",
       "      <td>3660</td>\n",
       "      <td>50</td>\n",
       "      <td>30.5</td>\n",
       "      <td>0.800570</td>\n",
       "    </tr>\n",
       "    <tr>\n",
       "      <th>3</th>\n",
       "      <td>Quarter1</td>\n",
       "      <td>sweing</td>\n",
       "      <td>Thursday</td>\n",
       "      <td>12</td>\n",
       "      <td>0.80</td>\n",
       "      <td>11.41</td>\n",
       "      <td>3660</td>\n",
       "      <td>50</td>\n",
       "      <td>30.5</td>\n",
       "      <td>0.800570</td>\n",
       "    </tr>\n",
       "    <tr>\n",
       "      <th>4</th>\n",
       "      <td>Quarter1</td>\n",
       "      <td>sweing</td>\n",
       "      <td>Thursday</td>\n",
       "      <td>6</td>\n",
       "      <td>0.80</td>\n",
       "      <td>25.90</td>\n",
       "      <td>1920</td>\n",
       "      <td>50</td>\n",
       "      <td>56.0</td>\n",
       "      <td>0.800382</td>\n",
       "    </tr>\n",
       "  </tbody>\n",
       "</table>\n",
       "</div>"
      ],
      "text/plain": [
       "    quarter department       day  team  targeted_productivity    smv  \\\n",
       "0  Quarter1     sweing  Thursday     8                   0.80  26.16   \n",
       "1  Quarter1  finishing  Thursday     1                   0.75   3.94   \n",
       "2  Quarter1     sweing  Thursday    11                   0.80  11.41   \n",
       "3  Quarter1     sweing  Thursday    12                   0.80  11.41   \n",
       "4  Quarter1     sweing  Thursday     6                   0.80  25.90   \n",
       "\n",
       "   over_time  incentive  no_of_workers  actual_productivity  \n",
       "0       7080         98           59.0             0.940725  \n",
       "1        960          0            8.0             0.886500  \n",
       "2       3660         50           30.5             0.800570  \n",
       "3       3660         50           30.5             0.800570  \n",
       "4       1920         50           56.0             0.800382  "
      ]
     },
     "execution_count": 19,
     "metadata": {},
     "output_type": "execute_result"
    }
   ],
   "source": [
    "df.head()"
   ]
  },
  {
   "cell_type": "code",
   "execution_count": 20,
   "metadata": {},
   "outputs": [
    {
     "data": {
      "image/png": "[encoded data removed]",
      "text/plain": [
       "<Figure size 1000x600 with 1 Axes>"
      ]
     },
     "metadata": {},
     "output_type": "display_data"
    }
   ],
   "source": [
    "plt.figure(figsize=(10, 6))\n",
    "plt.hist(df['targeted_productivity'], bins=20, alpha=0.7, color='blue', label='Targeted Productivity')\n",
    "plt.hist(df['actual_productivity'], bins=20, alpha=0.7, color='green', label='Actual Productivity')\n",
    "plt.title('Comparison of Targeted vs Actual Productivity')\n",
    "plt.xlabel('Productivity')\n",
    "plt.ylabel('Frequency')\n",
    "plt.legend()\n",
    "sns.despine()\n",
    "plt.show()"
   ]
  },
  {
   "cell_type": "code",
   "execution_count": 21,
   "metadata": {},
   "outputs": [],
   "source": [
    "# Create the target column for a classification tree\n",
    "def categorize_productivity(productivity):\n",
    "    if productivity < 0.6:\n",
    "        return 'low'\n",
    "    elif productivity < 0.8:\n",
    "        return 'medium'\n",
    "    else:\n",
    "        return 'high'"
   ]
  },
  {
   "cell_type": "code",
   "execution_count": 22,
   "metadata": {},
   "outputs": [],
   "source": [
    "# Create target column\n",
    "df['target'] = df['actual_productivity'].apply(categorize_productivity)"
   ]
  },
  {
   "cell_type": "code",
   "execution_count": 23,
   "metadata": {},
   "outputs": [
    {
     "data": {
      "text/html": [
       "<div>\n",
       "<style scoped>\n",
       "    .dataframe tbody tr th:only-of-type {\n",
       "        vertical-align: middle;\n",
       "    }\n",
       "\n",
       "    .dataframe tbody tr th {\n",
       "        vertical-align: top;\n",
       "    }\n",
       "\n",
       "    .dataframe thead th {\n",
       "        text-align: right;\n",
       "    }\n",
       "</style>\n",
       "<table border=\"1\" class=\"dataframe\">\n",
       "  <thead>\n",
       "    <tr style=\"text-align: right;\">\n",
       "      <th></th>\n",
       "      <th>quarter</th>\n",
       "      <th>department</th>\n",
       "      <th>day</th>\n",
       "      <th>team</th>\n",
       "      <th>targeted_productivity</th>\n",
       "      <th>smv</th>\n",
       "      <th>over_time</th>\n",
       "      <th>incentive</th>\n",
       "      <th>no_of_workers</th>\n",
       "      <th>actual_productivity</th>\n",
       "      <th>target</th>\n",
       "    </tr>\n",
       "  </thead>\n",
       "  <tbody>\n",
       "    <tr>\n",
       "      <th>1036</th>\n",
       "      <td>Quarter1</td>\n",
       "      <td>finishing</td>\n",
       "      <td>Tuesday</td>\n",
       "      <td>8</td>\n",
       "      <td>0.75</td>\n",
       "      <td>4.60</td>\n",
       "      <td>3360</td>\n",
       "      <td>0</td>\n",
       "      <td>8.0</td>\n",
       "      <td>0.702778</td>\n",
       "      <td>medium</td>\n",
       "    </tr>\n",
       "    <tr>\n",
       "      <th>758</th>\n",
       "      <td>Quarter2</td>\n",
       "      <td>finishing</td>\n",
       "      <td>Saturday</td>\n",
       "      <td>8</td>\n",
       "      <td>0.70</td>\n",
       "      <td>4.15</td>\n",
       "      <td>960</td>\n",
       "      <td>0</td>\n",
       "      <td>8.0</td>\n",
       "      <td>0.725625</td>\n",
       "      <td>medium</td>\n",
       "    </tr>\n",
       "    <tr>\n",
       "      <th>69</th>\n",
       "      <td>Quarter1</td>\n",
       "      <td>sweing</td>\n",
       "      <td>Monday</td>\n",
       "      <td>8</td>\n",
       "      <td>0.80</td>\n",
       "      <td>25.90</td>\n",
       "      <td>6780</td>\n",
       "      <td>38</td>\n",
       "      <td>56.5</td>\n",
       "      <td>0.800684</td>\n",
       "      <td>high</td>\n",
       "    </tr>\n",
       "    <tr>\n",
       "      <th>857</th>\n",
       "      <td>Quarter3</td>\n",
       "      <td>finishing</td>\n",
       "      <td>Thursday</td>\n",
       "      <td>8</td>\n",
       "      <td>0.70</td>\n",
       "      <td>5.13</td>\n",
       "      <td>1920</td>\n",
       "      <td>0</td>\n",
       "      <td>8.0</td>\n",
       "      <td>0.672135</td>\n",
       "      <td>medium</td>\n",
       "    </tr>\n",
       "    <tr>\n",
       "      <th>63</th>\n",
       "      <td>Quarter1</td>\n",
       "      <td>finishing</td>\n",
       "      <td>Monday</td>\n",
       "      <td>4</td>\n",
       "      <td>0.80</td>\n",
       "      <td>3.94</td>\n",
       "      <td>3840</td>\n",
       "      <td>0</td>\n",
       "      <td>16.0</td>\n",
       "      <td>0.893663</td>\n",
       "      <td>high</td>\n",
       "    </tr>\n",
       "    <tr>\n",
       "      <th>510</th>\n",
       "      <td>Quarter5</td>\n",
       "      <td>sweing</td>\n",
       "      <td>Thursday</td>\n",
       "      <td>5</td>\n",
       "      <td>0.65</td>\n",
       "      <td>20.79</td>\n",
       "      <td>7080</td>\n",
       "      <td>81</td>\n",
       "      <td>59.0</td>\n",
       "      <td>0.800474</td>\n",
       "      <td>high</td>\n",
       "    </tr>\n",
       "    <tr>\n",
       "      <th>44</th>\n",
       "      <td>Quarter1</td>\n",
       "      <td>finishing</td>\n",
       "      <td>Sunday</td>\n",
       "      <td>4</td>\n",
       "      <td>0.80</td>\n",
       "      <td>3.94</td>\n",
       "      <td>6600</td>\n",
       "      <td>0</td>\n",
       "      <td>20.0</td>\n",
       "      <td>0.861679</td>\n",
       "      <td>high</td>\n",
       "    </tr>\n",
       "    <tr>\n",
       "      <th>822</th>\n",
       "      <td>Quarter3</td>\n",
       "      <td>sweing</td>\n",
       "      <td>Tuesday</td>\n",
       "      <td>10</td>\n",
       "      <td>0.65</td>\n",
       "      <td>18.22</td>\n",
       "      <td>0</td>\n",
       "      <td>0</td>\n",
       "      <td>49.0</td>\n",
       "      <td>0.302117</td>\n",
       "      <td>low</td>\n",
       "    </tr>\n",
       "    <tr>\n",
       "      <th>766</th>\n",
       "      <td>Quarter3</td>\n",
       "      <td>finishing</td>\n",
       "      <td>Sunday</td>\n",
       "      <td>1</td>\n",
       "      <td>0.80</td>\n",
       "      <td>3.94</td>\n",
       "      <td>960</td>\n",
       "      <td>0</td>\n",
       "      <td>8.0</td>\n",
       "      <td>1.120437</td>\n",
       "      <td>high</td>\n",
       "    </tr>\n",
       "    <tr>\n",
       "      <th>418</th>\n",
       "      <td>Quarter4</td>\n",
       "      <td>finishing</td>\n",
       "      <td>Sunday</td>\n",
       "      <td>1</td>\n",
       "      <td>0.70</td>\n",
       "      <td>3.94</td>\n",
       "      <td>1440</td>\n",
       "      <td>0</td>\n",
       "      <td>8.0</td>\n",
       "      <td>0.970076</td>\n",
       "      <td>high</td>\n",
       "    </tr>\n",
       "  </tbody>\n",
       "</table>\n",
       "</div>"
      ],
      "text/plain": [
       "       quarter department       day  team  targeted_productivity    smv  \\\n",
       "1036  Quarter1  finishing   Tuesday     8                   0.75   4.60   \n",
       "758   Quarter2  finishing  Saturday     8                   0.70   4.15   \n",
       "69    Quarter1     sweing    Monday     8                   0.80  25.90   \n",
       "857   Quarter3  finishing  Thursday     8                   0.70   5.13   \n",
       "63    Quarter1  finishing    Monday     4                   0.80   3.94   \n",
       "510   Quarter5     sweing  Thursday     5                   0.65  20.79   \n",
       "44    Quarter1  finishing    Sunday     4                   0.80   3.94   \n",
       "822   Quarter3     sweing   Tuesday    10                   0.65  18.22   \n",
       "766   Quarter3  finishing    Sunday     1                   0.80   3.94   \n",
       "418   Quarter4  finishing    Sunday     1                   0.70   3.94   \n",
       "\n",
       "      over_time  incentive  no_of_workers  actual_productivity  target  \n",
       "1036       3360          0            8.0             0.702778  medium  \n",
       "758         960          0            8.0             0.725625  medium  \n",
       "69         6780         38           56.5             0.800684    high  \n",
       "857        1920          0            8.0             0.672135  medium  \n",
       "63         3840          0           16.0             0.893663    high  \n",
       "510        7080         81           59.0             0.800474    high  \n",
       "44         6600          0           20.0             0.861679    high  \n",
       "822           0          0           49.0             0.302117     low  \n",
       "766         960          0            8.0             1.120437    high  \n",
       "418        1440          0            8.0             0.970076    high  "
      ]
     },
     "execution_count": 23,
     "metadata": {},
     "output_type": "execute_result"
    }
   ],
   "source": [
    "df.sample(10)"
   ]
  },
  {
   "cell_type": "markdown",
   "metadata": {},
   "source": [
    "* We created the target column 'target' for a classification tree using both 'actual_productivity' columns. We categorized the productivity levels into 'low', 'medium', and 'high' based on specific bins."
   ]
  },
  {
   "cell_type": "code",
   "execution_count": 24,
   "metadata": {},
   "outputs": [],
   "source": [
    "# Identify the categorical columns\n",
    "categorical_columns = ['quarter', 'department', 'day']"
   ]
  },
  {
   "cell_type": "code",
   "execution_count": 25,
   "metadata": {},
   "outputs": [
    {
     "data": {
      "text/html": [
       "<div>\n",
       "<style scoped>\n",
       "    .dataframe tbody tr th:only-of-type {\n",
       "        vertical-align: middle;\n",
       "    }\n",
       "\n",
       "    .dataframe tbody tr th {\n",
       "        vertical-align: top;\n",
       "    }\n",
       "\n",
       "    .dataframe thead th {\n",
       "        text-align: right;\n",
       "    }\n",
       "</style>\n",
       "<table border=\"1\" class=\"dataframe\">\n",
       "  <thead>\n",
       "    <tr style=\"text-align: right;\">\n",
       "      <th></th>\n",
       "      <th>team</th>\n",
       "      <th>targeted_productivity</th>\n",
       "      <th>smv</th>\n",
       "      <th>over_time</th>\n",
       "      <th>incentive</th>\n",
       "      <th>no_of_workers</th>\n",
       "      <th>actual_productivity</th>\n",
       "      <th>target</th>\n",
       "      <th>quarter_Quarter2</th>\n",
       "      <th>quarter_Quarter3</th>\n",
       "      <th>quarter_Quarter4</th>\n",
       "      <th>quarter_Quarter5</th>\n",
       "      <th>department_sweing</th>\n",
       "      <th>day_Saturday</th>\n",
       "      <th>day_Sunday</th>\n",
       "      <th>day_Thursday</th>\n",
       "      <th>day_Tuesday</th>\n",
       "      <th>day_Wednesday</th>\n",
       "    </tr>\n",
       "  </thead>\n",
       "  <tbody>\n",
       "    <tr>\n",
       "      <th>601</th>\n",
       "      <td>10</td>\n",
       "      <td>0.80</td>\n",
       "      <td>22.52</td>\n",
       "      <td>6720</td>\n",
       "      <td>113</td>\n",
       "      <td>56.0</td>\n",
       "      <td>0.999995</td>\n",
       "      <td>high</td>\n",
       "      <td>0</td>\n",
       "      <td>0</td>\n",
       "      <td>0</td>\n",
       "      <td>0</td>\n",
       "      <td>1</td>\n",
       "      <td>0</td>\n",
       "      <td>0</td>\n",
       "      <td>0</td>\n",
       "      <td>0</td>\n",
       "      <td>1</td>\n",
       "    </tr>\n",
       "    <tr>\n",
       "      <th>680</th>\n",
       "      <td>12</td>\n",
       "      <td>0.80</td>\n",
       "      <td>15.26</td>\n",
       "      <td>4080</td>\n",
       "      <td>63</td>\n",
       "      <td>34.0</td>\n",
       "      <td>0.800402</td>\n",
       "      <td>high</td>\n",
       "      <td>1</td>\n",
       "      <td>0</td>\n",
       "      <td>0</td>\n",
       "      <td>0</td>\n",
       "      <td>1</td>\n",
       "      <td>0</td>\n",
       "      <td>0</td>\n",
       "      <td>0</td>\n",
       "      <td>0</td>\n",
       "      <td>0</td>\n",
       "    </tr>\n",
       "    <tr>\n",
       "      <th>55</th>\n",
       "      <td>3</td>\n",
       "      <td>0.75</td>\n",
       "      <td>19.87</td>\n",
       "      <td>6600</td>\n",
       "      <td>45</td>\n",
       "      <td>55.0</td>\n",
       "      <td>0.750243</td>\n",
       "      <td>medium</td>\n",
       "      <td>0</td>\n",
       "      <td>0</td>\n",
       "      <td>0</td>\n",
       "      <td>0</td>\n",
       "      <td>1</td>\n",
       "      <td>0</td>\n",
       "      <td>1</td>\n",
       "      <td>0</td>\n",
       "      <td>0</td>\n",
       "      <td>0</td>\n",
       "    </tr>\n",
       "    <tr>\n",
       "      <th>778</th>\n",
       "      <td>8</td>\n",
       "      <td>0.70</td>\n",
       "      <td>4.15</td>\n",
       "      <td>960</td>\n",
       "      <td>0</td>\n",
       "      <td>8.0</td>\n",
       "      <td>0.605208</td>\n",
       "      <td>medium</td>\n",
       "      <td>0</td>\n",
       "      <td>1</td>\n",
       "      <td>0</td>\n",
       "      <td>0</td>\n",
       "      <td>0</td>\n",
       "      <td>0</td>\n",
       "      <td>1</td>\n",
       "      <td>0</td>\n",
       "      <td>0</td>\n",
       "      <td>0</td>\n",
       "    </tr>\n",
       "    <tr>\n",
       "      <th>388</th>\n",
       "      <td>8</td>\n",
       "      <td>0.80</td>\n",
       "      <td>40.99</td>\n",
       "      <td>10770</td>\n",
       "      <td>30</td>\n",
       "      <td>56.5</td>\n",
       "      <td>0.555500</td>\n",
       "      <td>low</td>\n",
       "      <td>0</td>\n",
       "      <td>0</td>\n",
       "      <td>1</td>\n",
       "      <td>0</td>\n",
       "      <td>1</td>\n",
       "      <td>0</td>\n",
       "      <td>0</td>\n",
       "      <td>1</td>\n",
       "      <td>0</td>\n",
       "      <td>0</td>\n",
       "    </tr>\n",
       "    <tr>\n",
       "      <th>447</th>\n",
       "      <td>1</td>\n",
       "      <td>0.70</td>\n",
       "      <td>22.94</td>\n",
       "      <td>10440</td>\n",
       "      <td>60</td>\n",
       "      <td>58.0</td>\n",
       "      <td>0.800024</td>\n",
       "      <td>high</td>\n",
       "      <td>0</td>\n",
       "      <td>0</td>\n",
       "      <td>1</td>\n",
       "      <td>0</td>\n",
       "      <td>1</td>\n",
       "      <td>0</td>\n",
       "      <td>0</td>\n",
       "      <td>0</td>\n",
       "      <td>0</td>\n",
       "      <td>0</td>\n",
       "    </tr>\n",
       "    <tr>\n",
       "      <th>363</th>\n",
       "      <td>11</td>\n",
       "      <td>0.70</td>\n",
       "      <td>14.89</td>\n",
       "      <td>10260</td>\n",
       "      <td>50</td>\n",
       "      <td>57.0</td>\n",
       "      <td>0.700170</td>\n",
       "      <td>medium</td>\n",
       "      <td>0</td>\n",
       "      <td>1</td>\n",
       "      <td>0</td>\n",
       "      <td>0</td>\n",
       "      <td>1</td>\n",
       "      <td>0</td>\n",
       "      <td>0</td>\n",
       "      <td>0</td>\n",
       "      <td>0</td>\n",
       "      <td>1</td>\n",
       "    </tr>\n",
       "    <tr>\n",
       "      <th>923</th>\n",
       "      <td>5</td>\n",
       "      <td>0.80</td>\n",
       "      <td>4.60</td>\n",
       "      <td>1080</td>\n",
       "      <td>0</td>\n",
       "      <td>9.0</td>\n",
       "      <td>0.902963</td>\n",
       "      <td>high</td>\n",
       "      <td>0</td>\n",
       "      <td>0</td>\n",
       "      <td>1</td>\n",
       "      <td>0</td>\n",
       "      <td>0</td>\n",
       "      <td>0</td>\n",
       "      <td>0</td>\n",
       "      <td>0</td>\n",
       "      <td>0</td>\n",
       "      <td>1</td>\n",
       "    </tr>\n",
       "    <tr>\n",
       "      <th>868</th>\n",
       "      <td>12</td>\n",
       "      <td>0.80</td>\n",
       "      <td>15.26</td>\n",
       "      <td>4080</td>\n",
       "      <td>63</td>\n",
       "      <td>34.0</td>\n",
       "      <td>0.800402</td>\n",
       "      <td>high</td>\n",
       "      <td>0</td>\n",
       "      <td>0</td>\n",
       "      <td>1</td>\n",
       "      <td>0</td>\n",
       "      <td>1</td>\n",
       "      <td>0</td>\n",
       "      <td>1</td>\n",
       "      <td>0</td>\n",
       "      <td>0</td>\n",
       "      <td>0</td>\n",
       "    </tr>\n",
       "    <tr>\n",
       "      <th>88</th>\n",
       "      <td>1</td>\n",
       "      <td>0.80</td>\n",
       "      <td>26.16</td>\n",
       "      <td>10620</td>\n",
       "      <td>75</td>\n",
       "      <td>59.0</td>\n",
       "      <td>0.850502</td>\n",
       "      <td>high</td>\n",
       "      <td>0</td>\n",
       "      <td>0</td>\n",
       "      <td>0</td>\n",
       "      <td>0</td>\n",
       "      <td>1</td>\n",
       "      <td>0</td>\n",
       "      <td>0</td>\n",
       "      <td>0</td>\n",
       "      <td>1</td>\n",
       "      <td>0</td>\n",
       "    </tr>\n",
       "  </tbody>\n",
       "</table>\n",
       "</div>"
      ],
      "text/plain": [
       "     team  targeted_productivity    smv  over_time  incentive  no_of_workers  \\\n",
       "601    10                   0.80  22.52       6720        113           56.0   \n",
       "680    12                   0.80  15.26       4080         63           34.0   \n",
       "55      3                   0.75  19.87       6600         45           55.0   \n",
       "778     8                   0.70   4.15        960          0            8.0   \n",
       "388     8                   0.80  40.99      10770         30           56.5   \n",
       "447     1                   0.70  22.94      10440         60           58.0   \n",
       "363    11                   0.70  14.89      10260         50           57.0   \n",
       "923     5                   0.80   4.60       1080          0            9.0   \n",
       "868    12                   0.80  15.26       4080         63           34.0   \n",
       "88      1                   0.80  26.16      10620         75           59.0   \n",
       "\n",
       "     actual_productivity  target  quarter_Quarter2  quarter_Quarter3  \\\n",
       "601             0.999995    high                 0                 0   \n",
       "680             0.800402    high                 1                 0   \n",
       "55              0.750243  medium                 0                 0   \n",
       "778             0.605208  medium                 0                 1   \n",
       "388             0.555500     low                 0                 0   \n",
       "447             0.800024    high                 0                 0   \n",
       "363             0.700170  medium                 0                 1   \n",
       "923             0.902963    high                 0                 0   \n",
       "868             0.800402    high                 0                 0   \n",
       "88              0.850502    high                 0                 0   \n",
       "\n",
       "     quarter_Quarter4  quarter_Quarter5  department_sweing  day_Saturday  \\\n",
       "601                 0                 0                  1             0   \n",
       "680                 0                 0                  1             0   \n",
       "55                  0                 0                  1             0   \n",
       "778                 0                 0                  0             0   \n",
       "388                 1                 0                  1             0   \n",
       "447                 1                 0                  1             0   \n",
       "363                 0                 0                  1             0   \n",
       "923                 1                 0                  0             0   \n",
       "868                 1                 0                  1             0   \n",
       "88                  0                 0                  1             0   \n",
       "\n",
       "     day_Sunday  day_Thursday  day_Tuesday  day_Wednesday  \n",
       "601           0             0            0              1  \n",
       "680           0             0            0              0  \n",
       "55            1             0            0              0  \n",
       "778           1             0            0              0  \n",
       "388           0             1            0              0  \n",
       "447           0             0            0              0  \n",
       "363           0             0            0              1  \n",
       "923           0             0            0              1  \n",
       "868           1             0            0              0  \n",
       "88            0             0            1              0  "
      ]
     },
     "execution_count": 25,
     "metadata": {},
     "output_type": "execute_result"
    }
   ],
   "source": [
    "df_encoded = pd.get_dummies(df, columns=categorical_columns,  drop_first=True)\n",
    "df_encoded.sample(10)"
   ]
  },
  {
   "cell_type": "markdown",
   "metadata": {},
   "source": [
    "### Scaling the data"
   ]
  },
  {
   "cell_type": "code",
   "execution_count": 26,
   "metadata": {},
   "outputs": [],
   "source": [
    "numerical_features = ['smv', 'over_time', 'incentive', 'no_of_workers']"
   ]
  },
  {
   "cell_type": "code",
   "execution_count": 27,
   "metadata": {},
   "outputs": [],
   "source": [
    "scaler = StandardScaler()"
   ]
  },
  {
   "cell_type": "code",
   "execution_count": 28,
   "metadata": {},
   "outputs": [],
   "source": [
    "df_encoded[numerical_features] = scaler.fit_transform(df_encoded[numerical_features])"
   ]
  },
  {
   "cell_type": "code",
   "execution_count": 29,
   "metadata": {},
   "outputs": [
    {
     "data": {
      "text/html": [
       "<div>\n",
       "<style scoped>\n",
       "    .dataframe tbody tr th:only-of-type {\n",
       "        vertical-align: middle;\n",
       "    }\n",
       "\n",
       "    .dataframe tbody tr th {\n",
       "        vertical-align: top;\n",
       "    }\n",
       "\n",
       "    .dataframe thead th {\n",
       "        text-align: right;\n",
       "    }\n",
       "</style>\n",
       "<table border=\"1\" class=\"dataframe\">\n",
       "  <thead>\n",
       "    <tr style=\"text-align: right;\">\n",
       "      <th></th>\n",
       "      <th>team</th>\n",
       "      <th>targeted_productivity</th>\n",
       "      <th>smv</th>\n",
       "      <th>over_time</th>\n",
       "      <th>incentive</th>\n",
       "      <th>no_of_workers</th>\n",
       "      <th>actual_productivity</th>\n",
       "      <th>target</th>\n",
       "      <th>quarter_Quarter2</th>\n",
       "      <th>quarter_Quarter3</th>\n",
       "      <th>quarter_Quarter4</th>\n",
       "      <th>quarter_Quarter5</th>\n",
       "      <th>department_sweing</th>\n",
       "      <th>day_Saturday</th>\n",
       "      <th>day_Sunday</th>\n",
       "      <th>day_Thursday</th>\n",
       "      <th>day_Tuesday</th>\n",
       "      <th>day_Wednesday</th>\n",
       "    </tr>\n",
       "  </thead>\n",
       "  <tbody>\n",
       "    <tr>\n",
       "      <th>0</th>\n",
       "      <td>8</td>\n",
       "      <td>0.80</td>\n",
       "      <td>1.014552</td>\n",
       "      <td>0.750589</td>\n",
       "      <td>0.373414</td>\n",
       "      <td>1.099229</td>\n",
       "      <td>0.940725</td>\n",
       "      <td>high</td>\n",
       "      <td>0</td>\n",
       "      <td>0</td>\n",
       "      <td>0</td>\n",
       "      <td>0</td>\n",
       "      <td>1</td>\n",
       "      <td>0</td>\n",
       "      <td>0</td>\n",
       "      <td>1</td>\n",
       "      <td>0</td>\n",
       "      <td>0</td>\n",
       "    </tr>\n",
       "    <tr>\n",
       "      <th>1</th>\n",
       "      <td>1</td>\n",
       "      <td>0.75</td>\n",
       "      <td>-1.016778</td>\n",
       "      <td>-1.077682</td>\n",
       "      <td>-0.238643</td>\n",
       "      <td>-1.199268</td>\n",
       "      <td>0.886500</td>\n",
       "      <td>high</td>\n",
       "      <td>0</td>\n",
       "      <td>0</td>\n",
       "      <td>0</td>\n",
       "      <td>0</td>\n",
       "      <td>0</td>\n",
       "      <td>0</td>\n",
       "      <td>0</td>\n",
       "      <td>1</td>\n",
       "      <td>0</td>\n",
       "      <td>0</td>\n",
       "    </tr>\n",
       "    <tr>\n",
       "      <th>2</th>\n",
       "      <td>11</td>\n",
       "      <td>0.80</td>\n",
       "      <td>-0.333878</td>\n",
       "      <td>-0.271092</td>\n",
       "      <td>0.073631</td>\n",
       "      <td>-0.185225</td>\n",
       "      <td>0.800570</td>\n",
       "      <td>high</td>\n",
       "      <td>0</td>\n",
       "      <td>0</td>\n",
       "      <td>0</td>\n",
       "      <td>0</td>\n",
       "      <td>1</td>\n",
       "      <td>0</td>\n",
       "      <td>0</td>\n",
       "      <td>1</td>\n",
       "      <td>0</td>\n",
       "      <td>0</td>\n",
       "    </tr>\n",
       "    <tr>\n",
       "      <th>3</th>\n",
       "      <td>12</td>\n",
       "      <td>0.80</td>\n",
       "      <td>-0.333878</td>\n",
       "      <td>-0.271092</td>\n",
       "      <td>0.073631</td>\n",
       "      <td>-0.185225</td>\n",
       "      <td>0.800570</td>\n",
       "      <td>high</td>\n",
       "      <td>0</td>\n",
       "      <td>0</td>\n",
       "      <td>0</td>\n",
       "      <td>0</td>\n",
       "      <td>1</td>\n",
       "      <td>0</td>\n",
       "      <td>0</td>\n",
       "      <td>1</td>\n",
       "      <td>0</td>\n",
       "      <td>0</td>\n",
       "    </tr>\n",
       "    <tr>\n",
       "      <th>4</th>\n",
       "      <td>6</td>\n",
       "      <td>0.80</td>\n",
       "      <td>0.990783</td>\n",
       "      <td>-0.790895</td>\n",
       "      <td>0.073631</td>\n",
       "      <td>0.964023</td>\n",
       "      <td>0.800382</td>\n",
       "      <td>high</td>\n",
       "      <td>0</td>\n",
       "      <td>0</td>\n",
       "      <td>0</td>\n",
       "      <td>0</td>\n",
       "      <td>1</td>\n",
       "      <td>0</td>\n",
       "      <td>0</td>\n",
       "      <td>1</td>\n",
       "      <td>0</td>\n",
       "      <td>0</td>\n",
       "    </tr>\n",
       "  </tbody>\n",
       "</table>\n",
       "</div>"
      ],
      "text/plain": [
       "   team  targeted_productivity       smv  over_time  incentive  no_of_workers  \\\n",
       "0     8                   0.80  1.014552   0.750589   0.373414       1.099229   \n",
       "1     1                   0.75 -1.016778  -1.077682  -0.238643      -1.199268   \n",
       "2    11                   0.80 -0.333878  -0.271092   0.073631      -0.185225   \n",
       "3    12                   0.80 -0.333878  -0.271092   0.073631      -0.185225   \n",
       "4     6                   0.80  0.990783  -0.790895   0.073631       0.964023   \n",
       "\n",
       "   actual_productivity target  quarter_Quarter2  quarter_Quarter3  \\\n",
       "0             0.940725   high                 0                 0   \n",
       "1             0.886500   high                 0                 0   \n",
       "2             0.800570   high                 0                 0   \n",
       "3             0.800570   high                 0                 0   \n",
       "4             0.800382   high                 0                 0   \n",
       "\n",
       "   quarter_Quarter4  quarter_Quarter5  department_sweing  day_Saturday  \\\n",
       "0                 0                 0                  1             0   \n",
       "1                 0                 0                  0             0   \n",
       "2                 0                 0                  1             0   \n",
       "3                 0                 0                  1             0   \n",
       "4                 0                 0                  1             0   \n",
       "\n",
       "   day_Sunday  day_Thursday  day_Tuesday  day_Wednesday  \n",
       "0           0             1            0              0  \n",
       "1           0             1            0              0  \n",
       "2           0             1            0              0  \n",
       "3           0             1            0              0  \n",
       "4           0             1            0              0  "
      ]
     },
     "execution_count": 29,
     "metadata": {},
     "output_type": "execute_result"
    }
   ],
   "source": [
    "df_encoded.head()"
   ]
  },
  {
   "cell_type": "markdown",
   "metadata": {},
   "source": [
    "## 3. Model Building"
   ]
  },
  {
   "cell_type": "code",
   "execution_count": 30,
   "metadata": {},
   "outputs": [],
   "source": [
    "# Divide the dataset into features nd target labels\n",
    "X = df_encoded.drop(columns=['target', 'actual_productivity'],axis=1)\n",
    "y = df_encoded['target']"
   ]
  },
  {
   "cell_type": "code",
   "execution_count": 31,
   "metadata": {},
   "outputs": [],
   "source": [
    "# Split the dataset into traning and testsets\n",
    "X_train, X_test, y_train, y_test = train_test_split(X, y, test_size=0.2, random_state=42)"
   ]
  },
  {
   "cell_type": "code",
   "execution_count": 32,
   "metadata": {},
   "outputs": [],
   "source": [
    "# Instantiate a decision tree classifier\n",
    "tree_clf = DecisionTreeClassifier(max_depth=3)"
   ]
  },
  {
   "cell_type": "code",
   "execution_count": 33,
   "metadata": {},
   "outputs": [
    {
     "data": {
      "text/html": [
       "<style>#sk-container-id-1 {color: black;background-color: white;}#sk-container-id-1 pre{padding: 0;}#sk-container-id-1 div.sk-toggleable {background-color: white;}#sk-container-id-1 label.sk-toggleable__label {cursor: pointer;display: block;width: 100%;margin-bottom: 0;padding: 0.3em;box-sizing: border-box;text-align: center;}#sk-container-id-1 label.sk-toggleable__label-arrow:before {content: \"▸\";float: left;margin-right: 0.25em;color: #696969;}#sk-container-id-1 label.sk-toggleable__label-arrow:hover:before {color: black;}#sk-container-id-1 div.sk-estimator:hover label.sk-toggleable__label-arrow:before {color: black;}#sk-container-id-1 div.sk-toggleable__content {max-height: 0;max-width: 0;overflow: hidden;text-align: left;background-color: #f0f8ff;}#sk-container-id-1 div.sk-toggleable__content pre {margin: 0.2em;color: black;border-radius: 0.25em;background-color: #f0f8ff;}#sk-container-id-1 input.sk-toggleable__control:checked~div.sk-toggleable__content {max-height: 200px;max-width: 100%;overflow: auto;}#sk-container-id-1 input.sk-toggleable__control:checked~label.sk-toggleable__label-arrow:before {content: \"▾\";}#sk-container-id-1 div.sk-estimator input.sk-toggleable__control:checked~label.sk-toggleable__label {background-color: #d4ebff;}#sk-container-id-1 div.sk-label input.sk-toggleable__control:checked~label.sk-toggleable__label {background-color: #d4ebff;}#sk-container-id-1 input.sk-hidden--visually {border: 0;clip: rect(1px 1px 1px 1px);clip: rect(1px, 1px, 1px, 1px);height: 1px;margin: -1px;overflow: hidden;padding: 0;position: absolute;width: 1px;}#sk-container-id-1 div.sk-estimator {font-family: monospace;background-color: #f0f8ff;border: 1px dotted black;border-radius: 0.25em;box-sizing: border-box;margin-bottom: 0.5em;}#sk-container-id-1 div.sk-estimator:hover {background-color: #d4ebff;}#sk-container-id-1 div.sk-parallel-item::after {content: \"\";width: 100%;border-bottom: 1px solid gray;flex-grow: 1;}#sk-container-id-1 div.sk-label:hover label.sk-toggleable__label {background-color: #d4ebff;}#sk-container-id-1 div.sk-serial::before {content: \"\";position: absolute;border-left: 1px solid gray;box-sizing: border-box;top: 0;bottom: 0;left: 50%;z-index: 0;}#sk-container-id-1 div.sk-serial {display: flex;flex-direction: column;align-items: center;background-color: white;padding-right: 0.2em;padding-left: 0.2em;position: relative;}#sk-container-id-1 div.sk-item {position: relative;z-index: 1;}#sk-container-id-1 div.sk-parallel {display: flex;align-items: stretch;justify-content: center;background-color: white;position: relative;}#sk-container-id-1 div.sk-item::before, #sk-container-id-1 div.sk-parallel-item::before {content: \"\";position: absolute;border-left: 1px solid gray;box-sizing: border-box;top: 0;bottom: 0;left: 50%;z-index: -1;}#sk-container-id-1 div.sk-parallel-item {display: flex;flex-direction: column;z-index: 1;position: relative;background-color: white;}#sk-container-id-1 div.sk-parallel-item:first-child::after {align-self: flex-end;width: 50%;}#sk-container-id-1 div.sk-parallel-item:last-child::after {align-self: flex-start;width: 50%;}#sk-container-id-1 div.sk-parallel-item:only-child::after {width: 0;}#sk-container-id-1 div.sk-dashed-wrapped {border: 1px dashed gray;margin: 0 0.4em 0.5em 0.4em;box-sizing: border-box;padding-bottom: 0.4em;background-color: white;}#sk-container-id-1 div.sk-label label {font-family: monospace;font-weight: bold;display: inline-block;line-height: 1.2em;}#sk-container-id-1 div.sk-label-container {text-align: center;}#sk-container-id-1 div.sk-container {/* jupyter's `normalize.less` sets `[hidden] { display: none; }` but bootstrap.min.css set `[hidden] { display: none !important; }` so we also need the `!important` here to be able to override the default hidden behavior on the sphinx rendered scikit-learn.org. See: https://github.com/scikit-learn/scikit-learn/issues/21755 */display: inline-block !important;position: relative;}#sk-container-id-1 div.sk-text-repr-fallback {display: none;}</style><div id=\"sk-container-id-1\" class=\"sk-top-container\"><div class=\"sk-text-repr-fallback\"><pre>DecisionTreeClassifier(max_depth=3)</pre><b>In a Jupyter environment, please rerun this cell to show the HTML representation or trust the notebook. <br />On GitHub, the HTML representation is unable to render, please try loading this page with nbviewer.org.</b></div><div class=\"sk-container\" hidden><div class=\"sk-item\"><div class=\"sk-estimator sk-toggleable\"><input class=\"sk-toggleable__control sk-hidden--visually\" id=\"sk-estimator-id-1\" type=\"checkbox\" checked><label for=\"sk-estimator-id-1\" class=\"sk-toggleable__label sk-toggleable__label-arrow\">DecisionTreeClassifier</label><div class=\"sk-toggleable__content\"><pre>DecisionTreeClassifier(max_depth=3)</pre></div></div></div></div></div>"
      ],
      "text/plain": [
       "DecisionTreeClassifier(max_depth=3)"
      ]
     },
     "execution_count": 33,
     "metadata": {},
     "output_type": "execute_result"
    }
   ],
   "source": [
    "tree_clf.fit(X_train,y_train)"
   ]
  },
  {
   "cell_type": "code",
   "execution_count": 34,
   "metadata": {},
   "outputs": [],
   "source": [
    "y_pred = tree_clf.predict(X_test)"
   ]
  },
  {
   "cell_type": "code",
   "execution_count": 35,
   "metadata": {},
   "outputs": [
    {
     "name": "stdout",
     "output_type": "stream",
     "text": [
      "Score:  0.7541666666666667\n"
     ]
    }
   ],
   "source": [
    "tree_score = tree_clf.score(X_test, y_test)\n",
    "print('Score: ',tree_score)"
   ]
  },
  {
   "cell_type": "code",
   "execution_count": 36,
   "metadata": {},
   "outputs": [
    {
     "data": {
      "image/png": "[encoded data removed]",
      "text/plain": [
       "<Figure size 2000x1000 with 1 Axes>"
      ]
     },
     "metadata": {},
     "output_type": "display_data"
    }
   ],
   "source": [
    "# Visualize decision tree\n",
    "plt.figure(figsize=(20,10))\n",
    "plot_tree(tree_clf, feature_names=X.columns, class_names=['low', 'medium', 'high'], filled=True)\n",
    "plt.title('Decision Tree Visualization')\n",
    "plt.show()"
   ]
  },
  {
   "cell_type": "code",
   "execution_count": 37,
   "metadata": {},
   "outputs": [
    {
     "name": "stdout",
     "output_type": "stream",
     "text": [
      "Accuracy:  0.7541666666666667\n"
     ]
    }
   ],
   "source": [
    "# Evaluate the accuracy of the decision tree\n",
    "accuracy = accuracy_score(y_test, y_pred)\n",
    "print('Accuracy: ',accuracy)"
   ]
  },
  {
   "cell_type": "code",
   "execution_count": 38,
   "metadata": {},
   "outputs": [
    {
     "name": "stdout",
     "output_type": "stream",
     "text": [
      "\n",
      "Classification Report: \n",
      "              precision    recall  f1-score   support\n",
      "\n",
      "        high       0.76      0.94      0.84       114\n",
      "         low       0.53      0.46      0.49        37\n",
      "      medium       0.84      0.64      0.73        89\n",
      "\n",
      "    accuracy                           0.75       240\n",
      "   macro avg       0.71      0.68      0.69       240\n",
      "weighted avg       0.76      0.75      0.75       240\n",
      "\n"
     ]
    }
   ],
   "source": [
    "# classification report\n",
    "print('\\nClassification Report: ')\n",
    "print(classification_report(y_test, y_pred))"
   ]
  },
  {
   "cell_type": "markdown",
   "metadata": {},
   "source": [
    "##### Observations:\n",
    "* The model shows strong precision and recall for the 'high' and 'medium' productivity classes.\n",
    "* Overall accuracy of the model is 76%, indicating moderate performance across all classes.\n",
    "* We can conclude that the model performs relatively well in predicting the 'high' and 'medium' classes but struggles with the 'low' class, as indicated by the lower precision, recall, and F1-score for this class. "
   ]
  },
  {
   "cell_type": "markdown",
   "metadata": {},
   "source": [
    "## Explaining the Tree"
   ]
  },
  {
   "cell_type": "markdown",
   "metadata": {},
   "source": [
    "* Decision trees are like maps guiding us through complex decision-making processes. Picture yourself at a crossroads where you need to choose the best path forward. The decision tree starts with a question: \"Is the targeted productivity less than or equal to 0.775?\" If yes, it suggests a particular route; if no, it directs you elsewhere."
   ]
  },
  {
   "cell_type": "markdown",
   "metadata": {},
   "source": [
    "* Each branch in the decision tree represents a choice based on specific conditions. As you follow the branches, you arrive at conclusions tailored to different scenarios. For example, if the targeted productivity is below 0.775, it indicates the 'low' productivity class."
   ]
  },
  {
   "cell_type": "markdown",
   "metadata": {},
   "source": [
    "* The values associated with each decision node offer insights into the data distribution along that path. In this scenario, among 957 samples, 452 are classified as 'low' productivity, 179 as 'medium', and 326 as 'high'. This breakdown helps leaders understand the impact of various factors on productivity outcomes and where to focus improvement efforts."
   ]
  },
  {
   "cell_type": "markdown",
   "metadata": {},
   "source": [
    "* By interpreting decision trees, leaders can discern the critical factors influencing productivity and make strategic decisions to optimize processes and resource allocation. With this understanding, they can drive performance improvements and enhance productivity in the garment manufacturing process."
   ]
  },
  {
   "cell_type": "markdown",
   "metadata": {},
   "source": [
    "## Using Random Forest"
   ]
  },
  {
   "cell_type": "code",
   "execution_count": 39,
   "metadata": {},
   "outputs": [],
   "source": [
    "# Instantiate a random forest classifier\n",
    "rf_classifier = RandomForestClassifier(random_state=42)"
   ]
  },
  {
   "cell_type": "code",
   "execution_count": 40,
   "metadata": {},
   "outputs": [
    {
     "data": {
      "text/html": [
       "<style>#sk-container-id-2 {color: black;background-color: white;}#sk-container-id-2 pre{padding: 0;}#sk-container-id-2 div.sk-toggleable {background-color: white;}#sk-container-id-2 label.sk-toggleable__label {cursor: pointer;display: block;width: 100%;margin-bottom: 0;padding: 0.3em;box-sizing: border-box;text-align: center;}#sk-container-id-2 label.sk-toggleable__label-arrow:before {content: \"▸\";float: left;margin-right: 0.25em;color: #696969;}#sk-container-id-2 label.sk-toggleable__label-arrow:hover:before {color: black;}#sk-container-id-2 div.sk-estimator:hover label.sk-toggleable__label-arrow:before {color: black;}#sk-container-id-2 div.sk-toggleable__content {max-height: 0;max-width: 0;overflow: hidden;text-align: left;background-color: #f0f8ff;}#sk-container-id-2 div.sk-toggleable__content pre {margin: 0.2em;color: black;border-radius: 0.25em;background-color: #f0f8ff;}#sk-container-id-2 input.sk-toggleable__control:checked~div.sk-toggleable__content {max-height: 200px;max-width: 100%;overflow: auto;}#sk-container-id-2 input.sk-toggleable__control:checked~label.sk-toggleable__label-arrow:before {content: \"▾\";}#sk-container-id-2 div.sk-estimator input.sk-toggleable__control:checked~label.sk-toggleable__label {background-color: #d4ebff;}#sk-container-id-2 div.sk-label input.sk-toggleable__control:checked~label.sk-toggleable__label {background-color: #d4ebff;}#sk-container-id-2 input.sk-hidden--visually {border: 0;clip: rect(1px 1px 1px 1px);clip: rect(1px, 1px, 1px, 1px);height: 1px;margin: -1px;overflow: hidden;padding: 0;position: absolute;width: 1px;}#sk-container-id-2 div.sk-estimator {font-family: monospace;background-color: #f0f8ff;border: 1px dotted black;border-radius: 0.25em;box-sizing: border-box;margin-bottom: 0.5em;}#sk-container-id-2 div.sk-estimator:hover {background-color: #d4ebff;}#sk-container-id-2 div.sk-parallel-item::after {content: \"\";width: 100%;border-bottom: 1px solid gray;flex-grow: 1;}#sk-container-id-2 div.sk-label:hover label.sk-toggleable__label {background-color: #d4ebff;}#sk-container-id-2 div.sk-serial::before {content: \"\";position: absolute;border-left: 1px solid gray;box-sizing: border-box;top: 0;bottom: 0;left: 50%;z-index: 0;}#sk-container-id-2 div.sk-serial {display: flex;flex-direction: column;align-items: center;background-color: white;padding-right: 0.2em;padding-left: 0.2em;position: relative;}#sk-container-id-2 div.sk-item {position: relative;z-index: 1;}#sk-container-id-2 div.sk-parallel {display: flex;align-items: stretch;justify-content: center;background-color: white;position: relative;}#sk-container-id-2 div.sk-item::before, #sk-container-id-2 div.sk-parallel-item::before {content: \"\";position: absolute;border-left: 1px solid gray;box-sizing: border-box;top: 0;bottom: 0;left: 50%;z-index: -1;}#sk-container-id-2 div.sk-parallel-item {display: flex;flex-direction: column;z-index: 1;position: relative;background-color: white;}#sk-container-id-2 div.sk-parallel-item:first-child::after {align-self: flex-end;width: 50%;}#sk-container-id-2 div.sk-parallel-item:last-child::after {align-self: flex-start;width: 50%;}#sk-container-id-2 div.sk-parallel-item:only-child::after {width: 0;}#sk-container-id-2 div.sk-dashed-wrapped {border: 1px dashed gray;margin: 0 0.4em 0.5em 0.4em;box-sizing: border-box;padding-bottom: 0.4em;background-color: white;}#sk-container-id-2 div.sk-label label {font-family: monospace;font-weight: bold;display: inline-block;line-height: 1.2em;}#sk-container-id-2 div.sk-label-container {text-align: center;}#sk-container-id-2 div.sk-container {/* jupyter's `normalize.less` sets `[hidden] { display: none; }` but bootstrap.min.css set `[hidden] { display: none !important; }` so we also need the `!important` here to be able to override the default hidden behavior on the sphinx rendered scikit-learn.org. See: https://github.com/scikit-learn/scikit-learn/issues/21755 */display: inline-block !important;position: relative;}#sk-container-id-2 div.sk-text-repr-fallback {display: none;}</style><div id=\"sk-container-id-2\" class=\"sk-top-container\"><div class=\"sk-text-repr-fallback\"><pre>RandomForestClassifier(random_state=42)</pre><b>In a Jupyter environment, please rerun this cell to show the HTML representation or trust the notebook. <br />On GitHub, the HTML representation is unable to render, please try loading this page with nbviewer.org.</b></div><div class=\"sk-container\" hidden><div class=\"sk-item\"><div class=\"sk-estimator sk-toggleable\"><input class=\"sk-toggleable__control sk-hidden--visually\" id=\"sk-estimator-id-2\" type=\"checkbox\" checked><label for=\"sk-estimator-id-2\" class=\"sk-toggleable__label sk-toggleable__label-arrow\">RandomForestClassifier</label><div class=\"sk-toggleable__content\"><pre>RandomForestClassifier(random_state=42)</pre></div></div></div></div></div>"
      ],
      "text/plain": [
       "RandomForestClassifier(random_state=42)"
      ]
     },
     "execution_count": 40,
     "metadata": {},
     "output_type": "execute_result"
    }
   ],
   "source": [
    "# Fit the random forest to the traning data\n",
    "rf_classifier.fit(X_train, y_train)"
   ]
  },
  {
   "cell_type": "code",
   "execution_count": 41,
   "metadata": {},
   "outputs": [],
   "source": [
    "# Use the algorithm to predict the test data\n",
    "y_pred_rf = rf_classifier.predict(X_test)"
   ]
  },
  {
   "cell_type": "code",
   "execution_count": 42,
   "metadata": {},
   "outputs": [
    {
     "name": "stdout",
     "output_type": "stream",
     "text": [
      "Random Forest Accuracy:  0.7666666666666667\n"
     ]
    }
   ],
   "source": [
    "# Accuracy of the random forest\n",
    "accuracy_rf = accuracy_score(y_test, y_pred_rf)\n",
    "print('Random Forest Accuracy: ',accuracy_rf)"
   ]
  },
  {
   "cell_type": "markdown",
   "metadata": {},
   "source": [
    "### Fine-tune hyperperameter using GridSearchCV"
   ]
  },
  {
   "cell_type": "code",
   "execution_count": 43,
   "metadata": {},
   "outputs": [],
   "source": [
    "param_grid = {'max_depth' : [3, 5, 7], 'min_samples_split' : [2, 5, 10], 'min_samples_leaf' : [1, 2, 4]}"
   ]
  },
  {
   "cell_type": "code",
   "execution_count": 44,
   "metadata": {},
   "outputs": [
    {
     "data": {
      "text/html": [
       "<style>#sk-container-id-3 {color: black;background-color: white;}#sk-container-id-3 pre{padding: 0;}#sk-container-id-3 div.sk-toggleable {background-color: white;}#sk-container-id-3 label.sk-toggleable__label {cursor: pointer;display: block;width: 100%;margin-bottom: 0;padding: 0.3em;box-sizing: border-box;text-align: center;}#sk-container-id-3 label.sk-toggleable__label-arrow:before {content: \"▸\";float: left;margin-right: 0.25em;color: #696969;}#sk-container-id-3 label.sk-toggleable__label-arrow:hover:before {color: black;}#sk-container-id-3 div.sk-estimator:hover label.sk-toggleable__label-arrow:before {color: black;}#sk-container-id-3 div.sk-toggleable__content {max-height: 0;max-width: 0;overflow: hidden;text-align: left;background-color: #f0f8ff;}#sk-container-id-3 div.sk-toggleable__content pre {margin: 0.2em;color: black;border-radius: 0.25em;background-color: #f0f8ff;}#sk-container-id-3 input.sk-toggleable__control:checked~div.sk-toggleable__content {max-height: 200px;max-width: 100%;overflow: auto;}#sk-container-id-3 input.sk-toggleable__control:checked~label.sk-toggleable__label-arrow:before {content: \"▾\";}#sk-container-id-3 div.sk-estimator input.sk-toggleable__control:checked~label.sk-toggleable__label {background-color: #d4ebff;}#sk-container-id-3 div.sk-label input.sk-toggleable__control:checked~label.sk-toggleable__label {background-color: #d4ebff;}#sk-container-id-3 input.sk-hidden--visually {border: 0;clip: rect(1px 1px 1px 1px);clip: rect(1px, 1px, 1px, 1px);height: 1px;margin: -1px;overflow: hidden;padding: 0;position: absolute;width: 1px;}#sk-container-id-3 div.sk-estimator {font-family: monospace;background-color: #f0f8ff;border: 1px dotted black;border-radius: 0.25em;box-sizing: border-box;margin-bottom: 0.5em;}#sk-container-id-3 div.sk-estimator:hover {background-color: #d4ebff;}#sk-container-id-3 div.sk-parallel-item::after {content: \"\";width: 100%;border-bottom: 1px solid gray;flex-grow: 1;}#sk-container-id-3 div.sk-label:hover label.sk-toggleable__label {background-color: #d4ebff;}#sk-container-id-3 div.sk-serial::before {content: \"\";position: absolute;border-left: 1px solid gray;box-sizing: border-box;top: 0;bottom: 0;left: 50%;z-index: 0;}#sk-container-id-3 div.sk-serial {display: flex;flex-direction: column;align-items: center;background-color: white;padding-right: 0.2em;padding-left: 0.2em;position: relative;}#sk-container-id-3 div.sk-item {position: relative;z-index: 1;}#sk-container-id-3 div.sk-parallel {display: flex;align-items: stretch;justify-content: center;background-color: white;position: relative;}#sk-container-id-3 div.sk-item::before, #sk-container-id-3 div.sk-parallel-item::before {content: \"\";position: absolute;border-left: 1px solid gray;box-sizing: border-box;top: 0;bottom: 0;left: 50%;z-index: -1;}#sk-container-id-3 div.sk-parallel-item {display: flex;flex-direction: column;z-index: 1;position: relative;background-color: white;}#sk-container-id-3 div.sk-parallel-item:first-child::after {align-self: flex-end;width: 50%;}#sk-container-id-3 div.sk-parallel-item:last-child::after {align-self: flex-start;width: 50%;}#sk-container-id-3 div.sk-parallel-item:only-child::after {width: 0;}#sk-container-id-3 div.sk-dashed-wrapped {border: 1px dashed gray;margin: 0 0.4em 0.5em 0.4em;box-sizing: border-box;padding-bottom: 0.4em;background-color: white;}#sk-container-id-3 div.sk-label label {font-family: monospace;font-weight: bold;display: inline-block;line-height: 1.2em;}#sk-container-id-3 div.sk-label-container {text-align: center;}#sk-container-id-3 div.sk-container {/* jupyter's `normalize.less` sets `[hidden] { display: none; }` but bootstrap.min.css set `[hidden] { display: none !important; }` so we also need the `!important` here to be able to override the default hidden behavior on the sphinx rendered scikit-learn.org. See: https://github.com/scikit-learn/scikit-learn/issues/21755 */display: inline-block !important;position: relative;}#sk-container-id-3 div.sk-text-repr-fallback {display: none;}</style><div id=\"sk-container-id-3\" class=\"sk-top-container\"><div class=\"sk-text-repr-fallback\"><pre>GridSearchCV(cv=5, estimator=RandomForestClassifier(random_state=42),\n",
       "             param_grid={&#x27;max_depth&#x27;: [3, 5, 7], &#x27;min_samples_leaf&#x27;: [1, 2, 4],\n",
       "                         &#x27;min_samples_split&#x27;: [2, 5, 10]})</pre><b>In a Jupyter environment, please rerun this cell to show the HTML representation or trust the notebook. <br />On GitHub, the HTML representation is unable to render, please try loading this page with nbviewer.org.</b></div><div class=\"sk-container\" hidden><div class=\"sk-item sk-dashed-wrapped\"><div class=\"sk-label-container\"><div class=\"sk-label sk-toggleable\"><input class=\"sk-toggleable__control sk-hidden--visually\" id=\"sk-estimator-id-3\" type=\"checkbox\" ><label for=\"sk-estimator-id-3\" class=\"sk-toggleable__label sk-toggleable__label-arrow\">GridSearchCV</label><div class=\"sk-toggleable__content\"><pre>GridSearchCV(cv=5, estimator=RandomForestClassifier(random_state=42),\n",
       "             param_grid={&#x27;max_depth&#x27;: [3, 5, 7], &#x27;min_samples_leaf&#x27;: [1, 2, 4],\n",
       "                         &#x27;min_samples_split&#x27;: [2, 5, 10]})</pre></div></div></div><div class=\"sk-parallel\"><div class=\"sk-parallel-item\"><div class=\"sk-item\"><div class=\"sk-label-container\"><div class=\"sk-label sk-toggleable\"><input class=\"sk-toggleable__control sk-hidden--visually\" id=\"sk-estimator-id-4\" type=\"checkbox\" ><label for=\"sk-estimator-id-4\" class=\"sk-toggleable__label sk-toggleable__label-arrow\">estimator: RandomForestClassifier</label><div class=\"sk-toggleable__content\"><pre>RandomForestClassifier(random_state=42)</pre></div></div></div><div class=\"sk-serial\"><div class=\"sk-item\"><div class=\"sk-estimator sk-toggleable\"><input class=\"sk-toggleable__control sk-hidden--visually\" id=\"sk-estimator-id-5\" type=\"checkbox\" ><label for=\"sk-estimator-id-5\" class=\"sk-toggleable__label sk-toggleable__label-arrow\">RandomForestClassifier</label><div class=\"sk-toggleable__content\"><pre>RandomForestClassifier(random_state=42)</pre></div></div></div></div></div></div></div></div></div></div>"
      ],
      "text/plain": [
       "GridSearchCV(cv=5, estimator=RandomForestClassifier(random_state=42),\n",
       "             param_grid={'max_depth': [3, 5, 7], 'min_samples_leaf': [1, 2, 4],\n",
       "                         'min_samples_split': [2, 5, 10]})"
      ]
     },
     "execution_count": 44,
     "metadata": {},
     "output_type": "execute_result"
    }
   ],
   "source": [
    "grid_search = GridSearchCV(RandomForestClassifier(random_state=42), param_grid, cv= 5)\n",
    "grid_search.fit(X_train, y_train)"
   ]
  },
  {
   "cell_type": "code",
   "execution_count": 45,
   "metadata": {},
   "outputs": [
    {
     "name": "stdout",
     "output_type": "stream",
     "text": [
      "Best Parameters:  {'max_depth': 7, 'min_samples_leaf': 4, 'min_samples_split': 10}\n"
     ]
    }
   ],
   "source": [
    "print('Best Parameters: ',grid_search.best_params_)"
   ]
  },
  {
   "cell_type": "code",
   "execution_count": 46,
   "metadata": {},
   "outputs": [
    {
     "data": {
      "text/html": [
       "<style>#sk-container-id-4 {color: black;background-color: white;}#sk-container-id-4 pre{padding: 0;}#sk-container-id-4 div.sk-toggleable {background-color: white;}#sk-container-id-4 label.sk-toggleable__label {cursor: pointer;display: block;width: 100%;margin-bottom: 0;padding: 0.3em;box-sizing: border-box;text-align: center;}#sk-container-id-4 label.sk-toggleable__label-arrow:before {content: \"▸\";float: left;margin-right: 0.25em;color: #696969;}#sk-container-id-4 label.sk-toggleable__label-arrow:hover:before {color: black;}#sk-container-id-4 div.sk-estimator:hover label.sk-toggleable__label-arrow:before {color: black;}#sk-container-id-4 div.sk-toggleable__content {max-height: 0;max-width: 0;overflow: hidden;text-align: left;background-color: #f0f8ff;}#sk-container-id-4 div.sk-toggleable__content pre {margin: 0.2em;color: black;border-radius: 0.25em;background-color: #f0f8ff;}#sk-container-id-4 input.sk-toggleable__control:checked~div.sk-toggleable__content {max-height: 200px;max-width: 100%;overflow: auto;}#sk-container-id-4 input.sk-toggleable__control:checked~label.sk-toggleable__label-arrow:before {content: \"▾\";}#sk-container-id-4 div.sk-estimator input.sk-toggleable__control:checked~label.sk-toggleable__label {background-color: #d4ebff;}#sk-container-id-4 div.sk-label input.sk-toggleable__control:checked~label.sk-toggleable__label {background-color: #d4ebff;}#sk-container-id-4 input.sk-hidden--visually {border: 0;clip: rect(1px 1px 1px 1px);clip: rect(1px, 1px, 1px, 1px);height: 1px;margin: -1px;overflow: hidden;padding: 0;position: absolute;width: 1px;}#sk-container-id-4 div.sk-estimator {font-family: monospace;background-color: #f0f8ff;border: 1px dotted black;border-radius: 0.25em;box-sizing: border-box;margin-bottom: 0.5em;}#sk-container-id-4 div.sk-estimator:hover {background-color: #d4ebff;}#sk-container-id-4 div.sk-parallel-item::after {content: \"\";width: 100%;border-bottom: 1px solid gray;flex-grow: 1;}#sk-container-id-4 div.sk-label:hover label.sk-toggleable__label {background-color: #d4ebff;}#sk-container-id-4 div.sk-serial::before {content: \"\";position: absolute;border-left: 1px solid gray;box-sizing: border-box;top: 0;bottom: 0;left: 50%;z-index: 0;}#sk-container-id-4 div.sk-serial {display: flex;flex-direction: column;align-items: center;background-color: white;padding-right: 0.2em;padding-left: 0.2em;position: relative;}#sk-container-id-4 div.sk-item {position: relative;z-index: 1;}#sk-container-id-4 div.sk-parallel {display: flex;align-items: stretch;justify-content: center;background-color: white;position: relative;}#sk-container-id-4 div.sk-item::before, #sk-container-id-4 div.sk-parallel-item::before {content: \"\";position: absolute;border-left: 1px solid gray;box-sizing: border-box;top: 0;bottom: 0;left: 50%;z-index: -1;}#sk-container-id-4 div.sk-parallel-item {display: flex;flex-direction: column;z-index: 1;position: relative;background-color: white;}#sk-container-id-4 div.sk-parallel-item:first-child::after {align-self: flex-end;width: 50%;}#sk-container-id-4 div.sk-parallel-item:last-child::after {align-self: flex-start;width: 50%;}#sk-container-id-4 div.sk-parallel-item:only-child::after {width: 0;}#sk-container-id-4 div.sk-dashed-wrapped {border: 1px dashed gray;margin: 0 0.4em 0.5em 0.4em;box-sizing: border-box;padding-bottom: 0.4em;background-color: white;}#sk-container-id-4 div.sk-label label {font-family: monospace;font-weight: bold;display: inline-block;line-height: 1.2em;}#sk-container-id-4 div.sk-label-container {text-align: center;}#sk-container-id-4 div.sk-container {/* jupyter's `normalize.less` sets `[hidden] { display: none; }` but bootstrap.min.css set `[hidden] { display: none !important; }` so we also need the `!important` here to be able to override the default hidden behavior on the sphinx rendered scikit-learn.org. See: https://github.com/scikit-learn/scikit-learn/issues/21755 */display: inline-block !important;position: relative;}#sk-container-id-4 div.sk-text-repr-fallback {display: none;}</style><div id=\"sk-container-id-4\" class=\"sk-top-container\"><div class=\"sk-text-repr-fallback\"><pre>RandomForestClassifier(max_depth=7, min_samples_leaf=4, min_samples_split=10,\n",
       "                       random_state=42)</pre><b>In a Jupyter environment, please rerun this cell to show the HTML representation or trust the notebook. <br />On GitHub, the HTML representation is unable to render, please try loading this page with nbviewer.org.</b></div><div class=\"sk-container\" hidden><div class=\"sk-item\"><div class=\"sk-estimator sk-toggleable\"><input class=\"sk-toggleable__control sk-hidden--visually\" id=\"sk-estimator-id-6\" type=\"checkbox\" checked><label for=\"sk-estimator-id-6\" class=\"sk-toggleable__label sk-toggleable__label-arrow\">RandomForestClassifier</label><div class=\"sk-toggleable__content\"><pre>RandomForestClassifier(max_depth=7, min_samples_leaf=4, min_samples_split=10,\n",
       "                       random_state=42)</pre></div></div></div></div></div>"
      ],
      "text/plain": [
       "RandomForestClassifier(max_depth=7, min_samples_leaf=4, min_samples_split=10,\n",
       "                       random_state=42)"
      ]
     },
     "execution_count": 46,
     "metadata": {},
     "output_type": "execute_result"
    }
   ],
   "source": [
    "best_rf = grid_search.best_estimator_\n",
    "best_rf.fit(X_train, y_train)"
   ]
  },
  {
   "cell_type": "code",
   "execution_count": 47,
   "metadata": {},
   "outputs": [],
   "source": [
    "# Use the ensemble model to predict the test data\n",
    "y_pred_rf = best_rf.predict(X_test)"
   ]
  },
  {
   "cell_type": "code",
   "execution_count": 48,
   "metadata": {},
   "outputs": [
    {
     "name": "stdout",
     "output_type": "stream",
     "text": [
      "Accuracy (Random Forest):  0.7875\n"
     ]
    }
   ],
   "source": [
    "# the accuracy of the ensemble model\n",
    "accuracy_rf = accuracy_score(y_test, y_pred_rf)\n",
    "print('Accuracy (Random Forest): ',accuracy_rf)"
   ]
  },
  {
   "cell_type": "code",
   "execution_count": 49,
   "metadata": {},
   "outputs": [
    {
     "name": "stdout",
     "output_type": "stream",
     "text": [
      "Classification Report (Random Forest): \n",
      "              precision    recall  f1-score   support\n",
      "\n",
      "        high       0.84      0.92      0.88       114\n",
      "         low       0.58      0.51      0.54        37\n",
      "      medium       0.79      0.73      0.76        89\n",
      "\n",
      "    accuracy                           0.79       240\n",
      "   macro avg       0.74      0.72      0.73       240\n",
      "weighted avg       0.78      0.79      0.78       240\n",
      "\n"
     ]
    }
   ],
   "source": [
    "print('Classification Report (Random Forest): ')\n",
    "print(classification_report(y_test, y_pred_rf))"
   ]
  },
  {
   "cell_type": "markdown",
   "metadata": {},
   "source": [
    "##### Observation:\n",
    "* Precision: Precision measures the proportion of correctly predicted instances among all instances predicted as a specific class. For 'high' productivity, the precision is relatively high at 83%, indicating that when the model predicts a worker to have high productivity, it is correct about 83% of the time. For 'low' productivity, the precision is lower at 58%, suggesting that the model's predictions for low productivity are less reliable.\n",
    "\n",
    "* Recall: Recall measures the proportion of correctly predicted instances of a class among all instances that truly belong to that class. The recall for 'high' productivity is relatively high at 93%, indicating that the model effectively identifies workers with high productivity. However, the recall for 'low' productivity is lower at 49%, indicating that the model misses identifying some instances of low productivity.\n",
    "\n",
    "* F1-Score: The F1-score is the harmonic mean of precision and recall, providing a balanced measure of model performance. The F1-score for 'high' productivity is 0.88, indicating a good balance between precision and recall. For 'low' productivity, the F1-score is 0.53, suggesting a trade-off between precision and recall."
   ]
  },
  {
   "cell_type": "markdown",
   "metadata": {},
   "source": [
    "#### Suggestions:\n",
    "* To further improve the accuracy of the model we can use advanced machine learning algorithms such as Gradient Boosting Machines(GBM), XGBoost, and LightGBM."
   ]
  }
 ],
 "metadata": {
  "kernelspec": {
   "display_name": "Python 3 (ipykernel)",
   "language": "python",
   "name": "python3"
  },
  "language_info": {
   "codemirror_mode": {
    "name": "ipython",
    "version": 3
   },
   "file_extension": ".py",
   "mimetype": "text/x-python",
   "name": "python",
   "nbconvert_exporter": "python",
   "pygments_lexer": "ipython3",
   "version": "3.10.6"
  }
 },
 "nbformat": 4,
 "nbformat_minor": 4
}
